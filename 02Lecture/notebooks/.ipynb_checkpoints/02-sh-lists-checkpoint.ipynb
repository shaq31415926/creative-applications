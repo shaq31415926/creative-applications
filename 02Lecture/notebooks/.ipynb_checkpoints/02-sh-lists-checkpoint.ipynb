{
 "cells": [
  {
   "cell_type": "code",
   "execution_count": 4,
   "id": "8601727f-a21f-4bd0-b9f9-a44f6fa999df",
   "metadata": {},
   "outputs": [],
   "source": [
    "# create a list\n",
    "\n",
    "fruits = [\"orange\", \"banana\", \"apple\", \"orange\"]"
   ]
  },
  {
   "cell_type": "code",
   "execution_count": 5,
   "id": "1827b5ab-63ac-47e6-a20c-61a79d1a6cc2",
   "metadata": {},
   "outputs": [
    {
     "data": {
      "text/plain": [
       "['orange', 'banana', 'apple', 'orange']"
      ]
     },
     "execution_count": 5,
     "metadata": {},
     "output_type": "execute_result"
    }
   ],
   "source": [
    "# view your list\n",
    "# the list preserves the order and can contain duplicates\n",
    "\n",
    "fruits"
   ]
  },
  {
   "cell_type": "code",
   "execution_count": 6,
   "id": "04ac65ee-2017-4fb3-9485-cf3791837be1",
   "metadata": {},
   "outputs": [
    {
     "data": {
      "text/plain": [
       "list"
      ]
     },
     "execution_count": 6,
     "metadata": {},
     "output_type": "execute_result"
    }
   ],
   "source": [
    "# check the type of your list\n",
    "\n",
    "type(fruits)"
   ]
  },
  {
   "cell_type": "code",
   "execution_count": 9,
   "id": "845b74f7-58ac-4437-a200-78e58f621c54",
   "metadata": {},
   "outputs": [
    {
     "data": {
      "text/plain": [
       "'apple'"
      ]
     },
     "execution_count": 9,
     "metadata": {},
     "output_type": "execute_result"
    }
   ],
   "source": [
    "# select the first item of list\n",
    "# your list can be indexed\n",
    "\n",
    "fruits[0]"
   ]
  },
  {
   "cell_type": "code",
   "execution_count": 10,
   "id": "51cc1106-e76c-419e-a551-880aa3397768",
   "metadata": {},
   "outputs": [],
   "source": [
    "fruits2 = [\"strawberries\", \"apple\"]"
   ]
  },
  {
   "cell_type": "code",
   "execution_count": 12,
   "id": "bb6cfb8c-9060-4ec0-9db1-dc272fdae9f6",
   "metadata": {},
   "outputs": [],
   "source": [
    "# using the append method\n",
    "\n",
    "fruits.append(fruits2)"
   ]
  },
  {
   "cell_type": "code",
   "execution_count": 13,
   "id": "1a14d605-f0b8-4ee0-b41a-8d0ea962d1a9",
   "metadata": {},
   "outputs": [
    {
     "data": {
      "text/plain": [
       "['orange', 'banana', 'apple', 'orange', ['strawberries', 'apple']]"
      ]
     },
     "execution_count": 13,
     "metadata": {},
     "output_type": "execute_result"
    }
   ],
   "source": [
    "fruits"
   ]
  },
  {
   "cell_type": "code",
   "execution_count": 14,
   "id": "7defdecb-83cd-4162-bdf1-3f92edc564ba",
   "metadata": {},
   "outputs": [],
   "source": [
    "# using the extend method\n",
    "\n",
    "fruits.extend(fruits2)"
   ]
  },
  {
   "cell_type": "code",
   "execution_count": 15,
   "id": "d2c40b2e-dbd4-4c81-9f5e-f9fa5f3bd904",
   "metadata": {},
   "outputs": [
    {
     "data": {
      "text/plain": [
       "['orange',\n",
       " 'banana',\n",
       " 'apple',\n",
       " 'orange',\n",
       " ['strawberries', 'apple'],\n",
       " 'strawberries',\n",
       " 'apple']"
      ]
     },
     "execution_count": 15,
     "metadata": {},
     "output_type": "execute_result"
    }
   ],
   "source": [
    "fruits"
   ]
  },
  {
   "cell_type": "code",
   "execution_count": 16,
   "id": "35a2d88a-8e73-4752-ac67-98a0cd689f04",
   "metadata": {},
   "outputs": [
    {
     "data": {
      "text/plain": [
       "1"
      ]
     },
     "execution_count": 16,
     "metadata": {},
     "output_type": "execute_result"
    }
   ],
   "source": [
    "# count does not taken into account the \n",
    "\n",
    "fruits.count('strawberries')"
   ]
  },
  {
   "cell_type": "code",
   "execution_count": 17,
   "id": "c29e9864-98aa-496b-a7fa-baa43fa77ce1",
   "metadata": {},
   "outputs": [
    {
     "data": {
      "text/plain": [
       "2"
      ]
     },
     "execution_count": 17,
     "metadata": {},
     "output_type": "execute_result"
    }
   ],
   "source": [
    "fruits.count('apple')"
   ]
  },
  {
   "cell_type": "code",
   "execution_count": 20,
   "id": "49377f16-27fe-44ad-b199-229363ed3cdd",
   "metadata": {},
   "outputs": [],
   "source": [
    "fave_fruit = \"cherry\""
   ]
  },
  {
   "cell_type": "code",
   "execution_count": 21,
   "id": "2438719e-fe2c-4684-bb45-077a9a32ed5f",
   "metadata": {},
   "outputs": [
    {
     "data": {
      "text/plain": [
       "6"
      ]
     },
     "execution_count": 21,
     "metadata": {},
     "output_type": "execute_result"
    }
   ],
   "source": [
    "# the len function\n",
    "len(fave_fruit)"
   ]
  },
  {
   "cell_type": "code",
   "execution_count": 22,
   "id": "af6d7f6a-4c5d-455c-81cc-91dba14136f4",
   "metadata": {},
   "outputs": [
    {
     "data": {
      "text/plain": [
       "7"
      ]
     },
     "execution_count": 22,
     "metadata": {},
     "output_type": "execute_result"
    }
   ],
   "source": [
    "len(fruits)"
   ]
  },
  {
   "cell_type": "code",
   "execution_count": 35,
   "id": "d64339a9-a2be-44a7-8f85-f09bd496914c",
   "metadata": {},
   "outputs": [
    {
     "data": {
      "text/plain": [
       "str"
      ]
     },
     "execution_count": 35,
     "metadata": {},
     "output_type": "execute_result"
    }
   ],
   "source": [
    "type(f)"
   ]
  },
  {
   "cell_type": "code",
   "execution_count": 44,
   "id": "5c39c345-1581-421f-a072-5fae911a2eac",
   "metadata": {},
   "outputs": [
    {
     "name": "stdout",
     "output_type": "stream",
     "text": [
      "My favourite fruit is orange\n",
      "My favourite fruit is banana\n",
      "My favourite fruit is apple\n",
      "My favourite fruit is orange\n",
      "My favourite fruit is strawberries\n",
      "My favourite fruit is apple\n",
      "My favourite fruit is strawberries\n",
      "My favourite fruit is apple\n"
     ]
    }
   ],
   "source": [
    "for f in fruits:\n",
    "    # if you want to loop over the nested loop, you could do something like\n",
    "    # identify if the element is string\n",
    "    if type(f) is str:\n",
    "        print(\"My favourite fruit is\", f)\n",
    "    # otherwise...\n",
    "    else:    \n",
    "        for x in f:\n",
    "            print(\"My favourite fruit is\", x)\n",
    "        "
   ]
  },
  {
   "cell_type": "code",
   "execution_count": 27,
   "id": "f4dffb26-e7cf-41d7-af9b-acff07513ff1",
   "metadata": {},
   "outputs": [
    {
     "name": "stdout",
     "output_type": "stream",
     "text": [
      "25\n",
      "50\n",
      "100\n",
      "335\n",
      "4685\n",
      "4615\n"
     ]
    }
   ],
   "source": [
    "num_list = [5, 10, 20]\n",
    "\n",
    "for n in num_list:\n",
    "    print(n*5)\n"
   ]
  },
  {
   "cell_type": "code",
   "execution_count": 30,
   "id": "5c8d3155-55ff-41f2-b88f-949b1240850d",
   "metadata": {},
   "outputs": [
    {
     "name": "stdout",
     "output_type": "stream",
     "text": [
      "40\n",
      "43\n",
      "46\n",
      "49\n"
     ]
    }
   ],
   "source": [
    "for i in range(40, 50, 3):\n",
    "    print(i)"
   ]
  },
  {
   "cell_type": "code",
   "execution_count": null,
   "id": "7fc39ee1-b371-45eb-8704-22134fb45478",
   "metadata": {},
   "outputs": [],
   "source": []
  }
 ],
 "metadata": {
  "kernelspec": {
   "display_name": "Python 3 (ipykernel)",
   "language": "python",
   "name": "python3"
  },
  "language_info": {
   "codemirror_mode": {
    "name": "ipython",
    "version": 3
   },
   "file_extension": ".py",
   "mimetype": "text/x-python",
   "name": "python",
   "nbconvert_exporter": "python",
   "pygments_lexer": "ipython3",
   "version": "3.12.3"
  }
 },
 "nbformat": 4,
 "nbformat_minor": 5
}
