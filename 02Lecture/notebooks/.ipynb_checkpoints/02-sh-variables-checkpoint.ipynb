{
 "cells": [
  {
   "cell_type": "markdown",
   "id": "54b6622d-e1e8-4f59-a029-0d59b977d68f",
   "metadata": {},
   "source": [
    "## HI CLASS"
   ]
  },
  {
   "cell_type": "code",
   "execution_count": 1,
   "id": "de815d3d-206a-4c42-9639-9a916d863436",
   "metadata": {},
   "outputs": [
    {
     "name": "stdout",
     "output_type": "stream",
     "text": [
      "hi class\n"
     ]
    }
   ],
   "source": [
    "print(\"hi class\")"
   ]
  },
  {
   "cell_type": "code",
   "execution_count": 2,
   "id": "1bfe0adb-de04-4e4b-ba23-b7dd90d2a80f",
   "metadata": {},
   "outputs": [
    {
     "name": "stdout",
     "output_type": "stream",
     "text": [
      "hi class\n"
     ]
    }
   ],
   "source": [
    "print(\"hi class\")"
   ]
  },
  {
   "cell_type": "code",
   "execution_count": 3,
   "id": "cbcf9613-2e44-401a-a2fe-df142e471ba9",
   "metadata": {},
   "outputs": [
    {
     "name": "stdout",
     "output_type": "stream",
     "text": [
      "hi class\n"
     ]
    }
   ],
   "source": [
    "print(\"hi class\")"
   ]
  },
  {
   "cell_type": "code",
   "execution_count": 4,
   "id": "47fb834c-29da-4fb9-a253-c5ff19fd78f6",
   "metadata": {},
   "outputs": [
    {
     "name": "stdout",
     "output_type": "stream",
     "text": [
      "hi class\n"
     ]
    }
   ],
   "source": [
    "print(\"hi class\")"
   ]
  },
  {
   "cell_type": "code",
   "execution_count": 5,
   "id": "437b6568-cb36-4619-a745-0df2535fe0bf",
   "metadata": {},
   "outputs": [
    {
     "name": "stdout",
     "output_type": "stream",
     "text": [
      "hi class\n"
     ]
    }
   ],
   "source": [
    "print(\"hi class\")"
   ]
  },
  {
   "cell_type": "code",
   "execution_count": 6,
   "id": "a4f56c53-ec04-4e1b-9e64-4efddf640d7a",
   "metadata": {},
   "outputs": [],
   "source": [
    "first_variable =  56"
   ]
  },
  {
   "cell_type": "code",
   "execution_count": 7,
   "id": "c623c23a-da52-4178-840d-cceca19d35e4",
   "metadata": {},
   "outputs": [
    {
     "data": {
      "text/plain": [
       "56"
      ]
     },
     "execution_count": 7,
     "metadata": {},
     "output_type": "execute_result"
    }
   ],
   "source": [
    "first_variable"
   ]
  },
  {
   "cell_type": "code",
   "execution_count": 8,
   "id": "df5d5b05-7ab1-4fe8-a87d-8d5414d392b8",
   "metadata": {},
   "outputs": [],
   "source": [
    "first_variable = \"John\""
   ]
  },
  {
   "cell_type": "code",
   "execution_count": 9,
   "id": "45e5f5b6-8a96-4eb5-ac38-0e331ba612c4",
   "metadata": {},
   "outputs": [
    {
     "data": {
      "text/plain": [
       "'John'"
      ]
     },
     "execution_count": 9,
     "metadata": {},
     "output_type": "execute_result"
    }
   ],
   "source": [
    "first_variable"
   ]
  },
  {
   "cell_type": "code",
   "execution_count": 10,
   "id": "664ee6ac-60d1-46c6-b86d-9f9256d69889",
   "metadata": {},
   "outputs": [],
   "source": [
    "FIRST_VARIABLE = \"John Smith\""
   ]
  },
  {
   "cell_type": "code",
   "execution_count": 11,
   "id": "091a2e4a-743c-48f6-8bd0-a6fe2cf161cb",
   "metadata": {},
   "outputs": [
    {
     "name": "stdout",
     "output_type": "stream",
     "text": [
      "John\n",
      "John Smith\n"
     ]
    }
   ],
   "source": [
    "print(first_variable)\n",
    "print(FIRST_VARIABLE)"
   ]
  },
  {
   "cell_type": "code",
   "execution_count": 12,
   "id": "b2b9547a-d37d-40d4-8951-8c716120709a",
   "metadata": {},
   "outputs": [
    {
     "ename": "SyntaxError",
     "evalue": "invalid decimal literal (2852721869.py, line 1)",
     "output_type": "error",
     "traceback": [
      "\u001b[0;36m  Cell \u001b[0;32mIn[12], line 1\u001b[0;36m\u001b[0m\n\u001b[0;31m    1variable = \"John\"\u001b[0m\n\u001b[0m    ^\u001b[0m\n\u001b[0;31mSyntaxError\u001b[0m\u001b[0;31m:\u001b[0m invalid decimal literal\n"
     ]
    }
   ],
   "source": [
    "1variable = \"John\""
   ]
  },
  {
   "cell_type": "code",
   "execution_count": 13,
   "id": "5ffd0352-93d2-48b5-b008-c28b62d0404e",
   "metadata": {},
   "outputs": [
    {
     "ename": "SyntaxError",
     "evalue": "invalid syntax (2618671856.py, line 1)",
     "output_type": "error",
     "traceback": [
      "\u001b[0;36m  Cell \u001b[0;32mIn[13], line 1\u001b[0;36m\u001b[0m\n\u001b[0;31m    first variable = \"John\"\u001b[0m\n\u001b[0m          ^\u001b[0m\n\u001b[0;31mSyntaxError\u001b[0m\u001b[0;31m:\u001b[0m invalid syntax\n"
     ]
    }
   ],
   "source": [
    "first variable = \"John\""
   ]
  },
  {
   "cell_type": "code",
   "execution_count": 14,
   "id": "3caf95b5-0892-45c5-9676-7b9729255dcb",
   "metadata": {},
   "outputs": [
    {
     "data": {
      "text/plain": [
       "'Sarah'"
      ]
     },
     "execution_count": 14,
     "metadata": {},
     "output_type": "execute_result"
    }
   ],
   "source": [
    "variable1 = \"Sarah\"\n",
    "variable1"
   ]
  },
  {
   "cell_type": "code",
   "execution_count": 2,
   "id": "cfe4d2ed-0edb-45ae-85cf-4c51f41c59e5",
   "metadata": {},
   "outputs": [],
   "source": [
    "# creating multiple variables\n",
    "fruit1 = \"Orange\"\n",
    "fruit2 = \"Banana\""
   ]
  },
  {
   "cell_type": "code",
   "execution_count": 6,
   "id": "8ea255e7-66b8-4555-a2cf-ea5bf8e195bc",
   "metadata": {},
   "outputs": [],
   "source": [
    "# creating multiple variables\n",
    "\n",
    "fruit1, fruit2, fruit3 = \"Orange\", \"Banana\", \"Cherry\""
   ]
  },
  {
   "cell_type": "code",
   "execution_count": 9,
   "id": "f5522aa0-d964-4901-b13b-e4400e0d5120",
   "metadata": {},
   "outputs": [
    {
     "ename": "NameError",
     "evalue": "name 'Orange' is not defined",
     "output_type": "error",
     "traceback": [
      "\u001b[0;31m---------------------------------------------------------------------------\u001b[0m",
      "\u001b[0;31mNameError\u001b[0m                                 Traceback (most recent call last)",
      "Cell \u001b[0;32mIn[9], line 1\u001b[0m\n\u001b[0;32m----> 1\u001b[0m fruit \u001b[38;5;241m=\u001b[39m \u001b[43mOrange\u001b[49m\n",
      "\u001b[0;31mNameError\u001b[0m: name 'Orange' is not defined"
     ]
    }
   ],
   "source": [
    "fruit = Orange"
   ]
  },
  {
   "cell_type": "code",
   "execution_count": 14,
   "id": "19dbde8a-470c-4dee-ad7b-2f81a1125f73",
   "metadata": {},
   "outputs": [],
   "source": [
    "num1 = 5"
   ]
  },
  {
   "cell_type": "code",
   "execution_count": 15,
   "id": "96579e5c-3887-4814-ae32-fd6b662efc87",
   "metadata": {},
   "outputs": [
    {
     "data": {
      "text/plain": [
       "int"
      ]
     },
     "execution_count": 15,
     "metadata": {},
     "output_type": "execute_result"
    }
   ],
   "source": [
    "type(num1)"
   ]
  },
  {
   "cell_type": "code",
   "execution_count": 16,
   "id": "c7e99ce7-9f3b-4647-b382-f2e1b7bd84b0",
   "metadata": {},
   "outputs": [
    {
     "data": {
      "text/plain": [
       "10"
      ]
     },
     "execution_count": 16,
     "metadata": {},
     "output_type": "execute_result"
    }
   ],
   "source": [
    "num1 * 2"
   ]
  },
  {
   "cell_type": "code",
   "execution_count": 20,
   "id": "929636d6-c996-4031-bfc8-d74119eddddc",
   "metadata": {},
   "outputs": [
    {
     "data": {
      "text/plain": [
       "'Hi! My name is Bob and my age is 56'"
      ]
     },
     "execution_count": 20,
     "metadata": {},
     "output_type": "execute_result"
    }
   ],
   "source": [
    "name = \"Bob\"\n",
    "age = 56\n",
    "\n",
    "f'Hi! My name is {name} and my age is {age}'"
   ]
  },
  {
   "cell_type": "code",
   "execution_count": null,
   "id": "18bb1af4-2650-4278-92a8-94b4da14b9dc",
   "metadata": {},
   "outputs": [],
   "source": []
  }
 ],
 "metadata": {
  "kernelspec": {
   "display_name": "Python 3 (ipykernel)",
   "language": "python",
   "name": "python3"
  },
  "language_info": {
   "codemirror_mode": {
    "name": "ipython",
    "version": 3
   },
   "file_extension": ".py",
   "mimetype": "text/x-python",
   "name": "python",
   "nbconvert_exporter": "python",
   "pygments_lexer": "ipython3",
   "version": "3.12.3"
  }
 },
 "nbformat": 4,
 "nbformat_minor": 5
}
